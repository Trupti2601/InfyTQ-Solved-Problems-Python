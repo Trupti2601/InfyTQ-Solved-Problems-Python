{
  "cells": [
    {
      "cell_type": "markdown",
      "metadata": {
        "id": "view-in-github",
        "colab_type": "text"
      },
      "source": [
        "<a href=\"https://colab.research.google.com/github/Trupti2601/InfyTQ-Solved-Problems-Python/blob/main/infytq.ipynb\" target=\"_parent\"><img src=\"https://colab.research.google.com/assets/colab-badge.svg\" alt=\"Open In Colab\"/></a>"
      ]
    },
    {
      "cell_type": "markdown",
      "source": [
        "Assignment on List - Level 1\n",
        "Problem Statement\n",
        "Write a Python program to generate the next 15 leap years starting from a given year. Populate the leap years into a list and display the list. \n",
        " "
      ],
      "metadata": {
        "id": "sndWho_fELPC"
      }
    },
    {
      "cell_type": "code",
      "source": [
        "#lex_auth_012693797166096384149\n",
        "\n",
        "def find_leap_years(given_year):\n",
        "    \n",
        "    list_of_leap_years = []\n",
        "    while len(list_of_leap_years) < 15:\n",
        "        if given_year%4==0 and given_year%100!=0 or given_year%400==0:\n",
        "            list_of_leap_years.append(given_year)\n",
        "            given_year += 3\n",
        "        given_year += 1\n",
        "\n",
        "    return list_of_leap_years\n",
        "\n",
        "list_of_leap_years=find_leap_years(2000)\n",
        "print(list_of_leap_years)"
      ],
      "metadata": {
        "id": "0fHYfPTgE_XY"
      },
      "execution_count": null,
      "outputs": []
    },
    {
      "cell_type": "markdown",
      "source": [
        "Assignment on List - Level 2\n",
        "Problem Statement\n",
        "ARS Gems Store sells different varieties of gems to its customers.\n",
        "\n",
        "Write a Python program to calculate the bill amount to be paid by a customer based on the list of gems and quantity purchased. Any purchase with a total bill amount above Rs.30000 is entitled for 5% discount. If any gem required by the customer is not available in the store, then consider total bill amount to be -1.\n",
        "\n",
        "Assume that quantity required by the customer for any gem will always be greater than 0.\n",
        "\n",
        "Perform case-sensitive comparison wherever applicable."
      ],
      "metadata": {
        "id": "dAENxjqeFBkO"
      }
    },
    {
      "cell_type": "code",
      "source": [
        "#lex_auth_012693795044450304151\n",
        "\n",
        "def calculate_bill_amount(gems_list, price_list, reqd_gems,reqd_quantity):\n",
        "    bill_amount=0\n",
        "    #Write your logic here\n",
        "    return bill_amount\n",
        "\n",
        "#List of gems available in the store\n",
        "gems_list=[\"Emerald\",\"Ivory\",\"Jasper\",\"Ruby\",\"Garnet\"]\n",
        "\n",
        "#Price of gems available in the store. gems_list and price_list have one-to-one correspondence\n",
        "price_list=[1760,2119,1599,3920,3999]\n",
        "\n",
        "#List of gems required by the customer\n",
        "reqd_gems=[\"Ivory\",\"Emerald\",\"Garnet\"]\n",
        "\n",
        "#Quantity of gems required by the customer. reqd_gems and reqd_quantity have one-to-one correspondence\n",
        "reqd_quantity=[3,10,12]\n",
        "\n",
        "bill_amount=calculate_bill_amount(gems_list, price_list, reqd_gems, reqd_quantity)\n",
        "print(bill_amount)"
      ],
      "metadata": {
        "id": "p1IwRQzZFJIF"
      },
      "execution_count": null,
      "outputs": []
    },
    {
      "cell_type": "markdown",
      "source": [
        "Problem Statement\n",
        "Write a python function, create_largest_number(), which accepts a list of numbers and returns the largest number possible by concatenating the list of numbers.\u000b \n",
        "Note: Assume that all the numbers are two digit numbers."
      ],
      "metadata": {
        "id": "8ebS2DepFQbU"
      }
    },
    {
      "cell_type": "code",
      "source": [
        "#lex_auth_01269441913243238467\n",
        "\n",
        "def create_largest_number(number_list):\n",
        "    a= []\n",
        "    for i in number_list:\n",
        "      a.append(str(i))\n",
        "    lst = [a[i] for i in range(0,len(a))]\n",
        "    lst.sort()\n",
        "    lst.reverse()\n",
        "    b = \"\"\n",
        "    for i in lst:\n",
        "      b = b + i \n",
        "    \n",
        "    return int(b)\n",
        "      #remove pass and write your logic here\n",
        "\n",
        "number_list=[23,45,67]\n",
        "largest_number=create_largest_number(number_list)\n",
        "print(largest_number)"
      ],
      "metadata": {
        "colab": {
          "base_uri": "https://localhost:8080/"
        },
        "id": "3yPSwwv7FZ1I",
        "outputId": "42683b85-20b0-4ce2-8d9a-dc0ea31836d1"
      },
      "execution_count": 1,
      "outputs": [
        {
          "output_type": "stream",
          "name": "stdout",
          "text": [
            "674523\n"
          ]
        }
      ]
    },
    {
      "cell_type": "markdown",
      "source": [
        "Assignment on String - Level 1\n",
        "Problem Statement\n",
        "Write a function, check_palindrome() to check whether the given string is a palindrome or not. The function should return true if it is a palindrome else it should return false.\n",
        "\n",
        "Note: Initialize the string with various values and test your program. Assume that all the letters in the given string are all of the same case. Example: MAN, civic, WOW etc."
      ],
      "metadata": {
        "id": "nqYbbwlXHL-o"
      }
    },
    {
      "cell_type": "code",
      "source": [
        "#lex_auth_012693819159732224162\n",
        "\n",
        "def check_palindrome(word):\n",
        "  a = word[::-1]\n",
        "  if a == word:\n",
        "    return True\n",
        "  else:\n",
        "    return False\n",
        "  #Remove pass and write your logic here\n",
        "\n",
        "status=check_palindrome(\"malayalam\")\n",
        "if(status):\n",
        "    print(\"word is palindrome\")\n",
        "else:\n",
        "    print(\"word is not palindrome\")"
      ],
      "metadata": {
        "colab": {
          "base_uri": "https://localhost:8080/"
        },
        "id": "y7ZMAwLX-Ojr",
        "outputId": "cbea09b2-cec7-4ec9-8564-eaa92c069329"
      },
      "execution_count": null,
      "outputs": [
        {
          "output_type": "stream",
          "name": "stdout",
          "text": [
            "word is palindrome\n"
          ]
        }
      ]
    },
    {
      "cell_type": "markdown",
      "source": [],
      "metadata": {
        "id": "RgFhQRi7FcdG"
      }
    },
    {
      "cell_type": "code",
      "source": [
        "#lex_auth_012693795044450304151\n",
        "\n",
        "def calculate_bill_amount(gems_list, price_list, reqd_gems,reqd_quantity):\n",
        "    bill_amount=0\n",
        "    #Write your logic here\n",
        "    for i in reqd_gems:\n",
        "      if i in gems_list:\n",
        "        a = gems_list.index(i)\n",
        "        price = price_list[a]\n",
        "        b = reqd_gems.index(i)\n",
        "        quantity = reqd_quantity[b]\n",
        "        bill_amount += price*quantity\n",
        "      else:\n",
        "        bill_amount = -1\n",
        "        break\n",
        "\n",
        "    if bill_amount > 30000:\n",
        "      bill_amount = bill_amount*0.5\n",
        "\n",
        "    return bill_amount\n",
        "#List of gems available in the store\n",
        "gems_list=['Amber', 'Aquamarine', 'Opal', 'Topaz']\n",
        "\n",
        "#Price of gems available in the store. gems_list and price_list have one-to-one correspondence\n",
        "price_list=[4392, 1342, 8734, 6421]\n",
        "\n",
        "#List of gems required by the customer\n",
        "reqd_gems=['Amber', 'Opal', 'Topaz']\n",
        "\n",
        "#Quantity of gems required by the customer. reqd_gems and reqd_quantity have one-to-one correspondence\n",
        "reqd_quantity=[2, 1, 3]\n",
        "\n",
        "bill_amount=calculate_bill_amount(gems_list, price_list, reqd_gems, reqd_quantity)\n",
        "print(bill_amount)"
      ],
      "metadata": {
        "id": "M8ajiAjzhyMt"
      },
      "execution_count": null,
      "outputs": []
    },
    {
      "cell_type": "code",
      "source": [
        "#lex_auth_012693802383794176153\n",
        "\n",
        "def form_triangle(num1,num2,num3):\n",
        "    #Do not change the messages provided below\n",
        "    success=\"Triangle can be formed\"\n",
        "    failure=\"Triangle can't be formed\"\n",
        "    for i in (num1, num2, num3):\n",
        "      if (num1+num2 <= num3) or (num2+num3 <= num1) or (num1+num3 <= num2):\n",
        "        return failure\n",
        "      else:\n",
        "        return success\n",
        "num1=3\n",
        "num2=1\n",
        "num3=7\n",
        "form_triangle(num1, num2, num3)"
      ],
      "metadata": {
        "id": "6J12LhrkKXMv"
      },
      "execution_count": null,
      "outputs": []
    },
    {
      "cell_type": "code",
      "source": [
        "#lex_auth_012693711503400960120\n",
        "\n",
        "def find_product(num1,num2,num3):\n",
        "    product=0\n",
        "    if num1 == 7:\n",
        "      product = num2*num3\n",
        "    elif num2 == 7:\n",
        "      product = num3\n",
        "    elif num3 ==7:\n",
        "      product = -1\n",
        "    else:\n",
        "      product = num1*num2*num3\n",
        "    return product\n",
        "\n",
        "#Provide different values for num1, num2, num3 and test your program\n",
        "product=find_product(7,6,2)\n",
        "print(product)"
      ],
      "metadata": {
        "id": "3gz9C6x6Ine1"
      },
      "execution_count": null,
      "outputs": []
    },
    {
      "cell_type": "code",
      "source": [
        "def Even_Odd(l1):\n",
        "  l2=[]\n",
        "  l3=[]        \n",
        "  for i in range(len(l1)):\n",
        "    if i%2==0:\n",
        "      l2.append(l1[i])\n",
        "    else:\n",
        "      l3.append(l1[i])\n",
        "\n",
        "  l2.sort()\n",
        "  l3.sort()\n",
        "  print(\"even sorted array is:\",l2)\n",
        "  print(\"odd sorted array is:\",l3)\n",
        "  print(l2[-2]+l3[-2])\n",
        "Even_Odd([3,4,1,7,9])"
      ],
      "metadata": {
        "id": "L5FJZaVpsZI-"
      },
      "execution_count": null,
      "outputs": []
    },
    {
      "cell_type": "code",
      "source": [
        "for number in range(5,0,-1):\n",
        "    print (\"The current number is \",number)"
      ],
      "metadata": {
        "id": "DzpbHjSNldzo"
      },
      "execution_count": null,
      "outputs": []
    },
    {
      "cell_type": "code",
      "source": [
        "for number in range(5,0):\n",
        "    print (\"The current number is \",number)"
      ],
      "metadata": {
        "id": "W9U6TKyOlf_w"
      },
      "execution_count": null,
      "outputs": []
    },
    {
      "cell_type": "code",
      "source": [
        "# Problem Statement\n",
        "# Write a Python program to find the sum of digits of a given number. E.g. Sum of number 123 will be 6\n",
        "def find_sum_of_digits(number):\n",
        "    sum_of_digits=0\n",
        "    a = str(number)\n",
        "    for i in a:\n",
        "      sum_of_digits+=int(i)\n",
        "    return sum_of_digits\n",
        "\n",
        "#Provide different values for number and test your program\n",
        "sum_of_digits=find_sum_of_digits(123)\n",
        "print(\"Sum of digits:\",sum_of_digits)\n",
        "                                          "
      ],
      "metadata": {
        "id": "KRTRM2BRlkuo"
      },
      "execution_count": null,
      "outputs": []
    },
    {
      "cell_type": "code",
      "source": [
        "def Find_count(l1,num,diff):\n",
        "  a = 0\n",
        "  for i in range(num-diff,num+(diff+1)):\n",
        "    if i in l1:\n",
        "      a+=1\n",
        "  print(a)\n",
        "Find_count([11,16,15,18,13],13,2)\n"
      ],
      "metadata": {
        "colab": {
          "base_uri": "https://localhost:8080/"
        },
        "id": "IFgncEt_mDcS",
        "outputId": "636c5650-49fb-4506-e114-46f1f539919a"
      },
      "execution_count": null,
      "outputs": [
        {
          "output_type": "stream",
          "name": "stdout",
          "text": [
            "3\n"
          ]
        }
      ]
    },
    {
      "cell_type": "code",
      "source": [
        "def Diff_of_sum(n,m):\n",
        "  a=0\n",
        "  b=0\n",
        "  for i in range(1,m+1):\n",
        "    if i%n != 0:\n",
        "      a += i\n",
        "    else:\n",
        "      b += i\n",
        "  print(a)\n",
        "  print(b)\n",
        "  print(a-b)\n",
        "Diff_of_sum(4,20)"
      ],
      "metadata": {
        "id": "NLyZj7eCL9BG"
      },
      "execution_count": null,
      "outputs": []
    },
    {
      "cell_type": "code",
      "source": [
        "arr1 =[1,4,2,6,4,2]\n",
        "arr1.sort()\n",
        "print(arr1)\n",
        "\n",
        "if (arr1[0]+arr1[1])<9:\n",
        "  print(arr1[0]*arr1[1])\n",
        "\n"
      ],
      "metadata": {
        "id": "7zsmXLKeDb5O"
      },
      "execution_count": null,
      "outputs": []
    },
    {
      "cell_type": "code",
      "source": [
        "# def Number_of_carries(num1,num2):\n",
        "num1 = 765\n",
        "\n",
        "num = num1%10\n",
        "# num1 = num1*10+num\n",
        "print(num)\n",
        "#   nu= num2%10\n",
        "#   num2 = num2*10+nu\n",
        "#   print(num1,num2)\n",
        "# Number_of_carries(234,567)"
      ],
      "metadata": {
        "id": "hdbR6Wa9s7Hy"
      },
      "execution_count": null,
      "outputs": []
    },
    {
      "cell_type": "code",
      "source": [
        "\n",
        "a=\"456\"\n",
        "b=\"987\"\n",
        "c=int(a[-1])\n",
        "print(c)"
      ],
      "metadata": {
        "id": "E6A-a6i5CMks"
      },
      "execution_count": null,
      "outputs": []
    },
    {
      "cell_type": "code",
      "source": [
        "def Required_food(r,unit):\n",
        "  arr = [2,8,3,5,7,1,1,1]\n",
        "  b = 0\n",
        "  a = 0\n",
        "  food_req = r*unit\n",
        "  for i in arr:\n",
        "    if a < food_req:\n",
        "      a+=i\n",
        "      b+=1\n",
        "     \n",
        "    # else:\n",
        "    #   break\n",
        "  if a < food_req:\n",
        "    print(-1)\n",
        "  else:\n",
        "    print(b)\n",
        "    \n",
        "Required_food(7,2)\n"
      ],
      "metadata": {
        "id": "D9ZUduVVmr0I"
      },
      "execution_count": null,
      "outputs": []
    },
    {
      "cell_type": "code",
      "source": [
        "def Calculate(m,n):\n",
        "  k = 0\n",
        "  for i in range(m,n):\n",
        "    if i % 5 == 0 and i % 3 == 0:\n",
        "      k += i\n",
        "    else:\n",
        "      k +=0\n",
        "  print(k)\n",
        "\n",
        "Calculate(12,50)"
      ],
      "metadata": {
        "id": "rjQoPVxSi6FC"
      },
      "execution_count": null,
      "outputs": []
    },
    {
      "cell_type": "code",
      "source": [
        "def Operation_choices(a,b,c):\n",
        "  d = 0\n",
        "  if c == 1:\n",
        "    d = a+b\n",
        "  elif c == 2:\n",
        "    d = a-b\n",
        "  elif c==3:\n",
        "    d = a*b\n",
        "  elif c ==4:\n",
        "    d = a/d\n",
        "  else:\n",
        "    d = 0\n",
        "  print(d)\n",
        "\n",
        "Operation_choices(16,20,2)"
      ],
      "metadata": {
        "id": "3uMEz6ycgr1j"
      },
      "execution_count": null,
      "outputs": []
    },
    {
      "cell_type": "code",
      "source": [
        "# str1 = \"apple\"\n",
        "# str2 = \"\"\n",
        "def Replace_Characters(ch1,ch2):\n",
        "    str1 = \"apple\"\n",
        "    str2 = \"\"   \n",
        "    for i in str1:\n",
        "        if i == ch1:\n",
        "            str2 += ch2\n",
        "        elif i == ch2:\n",
        "            str2 += ch1\n",
        "        else:\n",
        "            str2 += i\n",
        "    print(str2)         \n",
        "\n",
        "Replace_Characters(\"a\",\"p\")          "
      ],
      "metadata": {
        "id": "SZMM1_3vf9Tr"
      },
      "execution_count": null,
      "outputs": []
    },
    {
      "cell_type": "code",
      "source": [
        "str1 =\"hjj-dhg\"\n",
        "s=0\n",
        "j=\"\"\n",
        "for i in str1:\n",
        "  if i =='-':\n",
        "    s += 1\n",
        "  else:\n",
        "    j+=i\n",
        "print((\"-\"*s)+j)\n"
      ],
      "metadata": {
        "id": "VeZ2nF4_lCIl"
      },
      "execution_count": null,
      "outputs": []
    },
    {
      "cell_type": "code",
      "source": [
        "#lex_auth_01269441913243238467\n",
        "def create_largest_number(number_list):\n",
        "    list = number_list.sort\n",
        "    for i in list:\n",
        "      \n",
        "\n",
        "    #remove pass and write your logic here\n",
        "\n",
        "number_list=[23,45,67]\n",
        "largest_number=create_largest_number(number_list)\n",
        "print(largest_number)"
      ],
      "metadata": {
        "id": "g6jZtkjrddZv"
      },
      "execution_count": null,
      "outputs": []
    },
    {
      "cell_type": "code",
      "source": [
        "#lex_auth_012693797166096384149\n",
        "\n",
        "def find_leap_years(given_year):\n",
        "  list = []\n",
        "  for year in range(given_year, given_year+70):\n",
        "    if(year%400 == 0 or year%100 != 0 and year%4 == 0):\n",
        "      list.append(year)\n",
        "      if(len(list)==15):\n",
        "        break\n",
        "  list_of_leap_years = list\n",
        "  \n",
        "  return list_of_leap_years\n",
        "\n",
        "list_of_leap_years=find_leap_years(2000)\n",
        "print(list_of_leap_years)"
      ],
      "metadata": {
        "id": "pKQ-IGaKWHZg"
      },
      "execution_count": null,
      "outputs": []
    },
    {
      "cell_type": "code",
      "source": [
        "def make_amount(rupees_to_make,no_of_five,no_of_one):\n",
        "    five_needed=0\n",
        "    one_needed=0\n",
        "    if (no_of_five*5)+no_of_one >= rupees_to_make:\n",
        "      five_needed = rupees_to_make//5\n",
        "      if five_needed >= no_of_five:\n",
        "        five_needed = no_of_five\n",
        "      one_needed = rupees_to_make-(5*five_needed)\n",
        "      if one_needed >= no_of_one:\n",
        "        one_needed = no_of_one\n",
        "\n",
        "      \n",
        "    #Start writing your code here\n",
        "    #Populate the variables: five_needed and one_needed\n",
        "\n",
        "\n",
        "    # Use the below given print statements to display the output\n",
        "    # Also, do not modify them for verification to work\n",
        "    \n",
        "      print(\"No. of Five needed :\", five_needed)\n",
        "      print(\"No. of One needed  :\", one_needed)\n",
        "    else:\n",
        "      \n",
        "      print(-1)\n",
        "\n",
        "\n",
        "#Provide different values for rupees_to_make,no_of_five,no_of_one and test your program\n",
        "make_amount(28,8,5)"
      ],
      "metadata": {
        "id": "z2NSLjCBTNAs"
      },
      "execution_count": null,
      "outputs": []
    },
    {
      "cell_type": "code",
      "source": [
        "#lex_auth_012693782475948032141\n",
        "\n",
        "def calculate_bill_amount(food_type,quantity_ordered,distance_in_kms):\n",
        "    bill_amount=0\n",
        "    if food_type == \"V\":\n",
        "      if distance_in_kms < 3:\n",
        "        distance_in_kms = 0\n",
        "      elif distance_in_kms > 3 and distance_in_kms<=3:\n",
        "        distance_in_kms = (distance_in_kms-3)*3\n",
        "      elif distance_in_kms > 6:\n",
        "        distance_in_kms = ((distance_in_kms-6)*6)+9\n",
        "        bill_amount = (120*quantity_ordered)+distance_in_kms\n",
        "    elif food_type == \"N\":\n",
        "      if distance_in_kms < 3:\n",
        "        distance_in_kms = 0\n",
        "      elif distance_in_kms > 3 and distance_in_kms<=6:\n",
        "        distance_in_kms = (distance_in_kms-3)*3\n",
        "      elif distance_in_kms > 6:\n",
        "        distance_in_kms = ((distance_in_kms-6)*6)+9\n",
        "        bill_amount = (150*quantity_ordered)+distance_in_kms\n",
        "    else:\n",
        "      if quantity_ordered == 0 or distance_in_kms == 0:\n",
        "        bill_amount=0\n",
        "\n",
        "      \n",
        "\n",
        "    return bill_amount\n",
        "\n",
        "#Provide different values for food_type,quantity_ordered,distance_in_kms and test your program\n",
        "bill_amount=calculate_bill_amount(\"N\",2,8)\n",
        "print(bill_amount)"
      ],
      "metadata": {
        "id": "6ismsWWJAj7w"
      },
      "execution_count": null,
      "outputs": []
    },
    {
      "cell_type": "code",
      "source": [
        "def rev():\n",
        "  for i in range(10,100):\n",
        "    if i%10 == i"
      ],
      "metadata": {
        "id": "s-C56-Z7c9Pq"
      },
      "execution_count": null,
      "outputs": []
    },
    {
      "cell_type": "code",
      "source": [
        "l=[]\n",
        "for i in range(10,100):\n",
        "  reverse = l.append(i)\n",
        "  if i == i.reverse:\n",
        "    return True"
      ],
      "metadata": {
        "id": "sUie8-VuaBwP"
      },
      "execution_count": null,
      "outputs": []
    },
    {
      "cell_type": "markdown",
      "source": [
        "Problem Statement\n",
        "Write a python program that displays a message as follows for a given number:\n",
        "\n",
        "If it is a multiple of three, display \"Zip\"\n",
        "If it is a multiple of five, display \"Zap\".\n",
        "If it is a multiple of both three and five, display \"Zoom\".\n",
        "If it does not satisfy any of the above given conditions, display \"Invalid\"."
      ],
      "metadata": {
        "id": "vI1q3ZV58ivS"
      }
    },
    {
      "cell_type": "code",
      "source": [
        "def display(num):\n",
        "    message=\"\"\n",
        "    if num%3==0 and num%5==0:\n",
        "      message=\"zoom\"\n",
        "    elif num%5==0:\n",
        "      message=\"zap\"\n",
        "    elif num%3==0:\n",
        "      message=\"zip\"\n",
        "    else:\n",
        "      message=\"Invalid\"\n",
        "    #write your logic here\n",
        "    return message\n",
        "\n",
        "#Provide different values for num and test your program\n",
        "message=display(9)\n",
        "print(message)"
      ],
      "metadata": {
        "id": "dzycH348rnRI",
        "colab": {
          "base_uri": "https://localhost:8080/"
        },
        "outputId": "7b02a366-4c0d-4084-ecca-49821d51e10e"
      },
      "execution_count": null,
      "outputs": [
        {
          "output_type": "stream",
          "name": "stdout",
          "text": [
            "Invalid\n"
          ]
        }
      ]
    },
    {
      "cell_type": "markdown",
      "source": [
        "Problem Statement\n",
        "The flight ticket rates for a round-trip (Mumbai->Dubai) were as follows: \n",
        "Rate per Adult: Rs. 37550.0 \n",
        "Rate per Child: 1/3rd of the rate per adult \n",
        "Service Tax: 7% of the ticket amount (including all passengers) \n",
        "As it was a holiday season, the airline also offered 10% discount on the final ticket cost (after inclusion of the service tax).\n",
        "Find and display the total ticket cost for a group which had adults and children.\n"
      ],
      "metadata": {
        "id": "8Bf8JnFmHlhJ"
      }
    },
    {
      "cell_type": "code",
      "source": [
        "def calculate_total_ticket_cost(no_of_adults, no_of_children):\n",
        "    cost = 37550.0 \n",
        "    cost_child = 1/3*(cost)\n",
        "    ticket_cost = ((cost*no_of_adults) + ((cost_child)*no_of_children))\n",
        "    total_ticket_cost =(ticket_cost + (ticket_cost*0.07))\n",
        "    total_ticket_cost = (total_ticket_cost-(total_ticket_cost*0.1))\n",
        "    return total_ticket_cost\n",
        "\n",
        "#Provide different values for no_of_adults, no_of_children and test your program\n",
        "total_ticket_cost=calculate_total_ticket_cost(5,2)\n",
        "print(\"Total Ticket Cost:\",total_ticket_cost)"
      ],
      "metadata": {
        "id": "SdhJhieXTyuq"
      },
      "execution_count": null,
      "outputs": []
    },
    {
      "cell_type": "markdown",
      "source": [
        "Write a Python program that converts temperature in Celsius to Fahrenheit and vice versa. Implement the requirements using functions.\n",
        "Hint: 0C= (0F-32)*(5/9)"
      ],
      "metadata": {
        "id": "SuPwUwSrQJ-K"
      }
    },
    {
      "cell_type": "code",
      "source": [
        "def Cal_temp(Celsius):\n",
        "  F = ((Celsius*9)/5)+32\n",
        "  print(\"Fahrenheit = \",F)\n",
        "\n",
        "Cal_temp(95)"
      ],
      "metadata": {
        "id": "kS2Skqv9QAuK"
      },
      "execution_count": null,
      "outputs": []
    },
    {
      "cell_type": "code",
      "source": [
        "def calculate_sum(data1, data2):\n",
        "    #All the statements in the block of code must have the same level of indentation\n",
        "    result_sum=data1+data2\n",
        "    print(result_sum)\n",
        "\n",
        "calculate_sum(10,20)"
      ],
      "metadata": {
        "id": "DgtiNz0ePbrC"
      },
      "execution_count": null,
      "outputs": []
    },
    {
      "cell_type": "code",
      "source": [
        "print(\"________________________________________________________________________\")\n",
        "print(\"\\t\\t\\t BREAD BASKET\")\n",
        "print(\" Looking for a healthy breakfast, this is the place for you!! \")\n",
        "print(\"________________________________________________________________________\")\n",
        "print(\"Raisin Toast \\t\\t\\t $2.50\")\n",
        "print(\"French Toast \\t\\t\\t $2.80\")\n",
        "print(\"Mushroom Toast \\t\\t\\t $3.00\")\n",
        "print(\"Pancake \\t\\t\\t $4.00\")\n",
        "print(\"Pancake with Ice-cream \\t\\t\\t\\t $7.50\")\n",
        "print(\"Chef's speciality \\t\\t\\t\\t $10.00\")"
      ],
      "metadata": {
        "id": "DCPx15ibWZE-"
      },
      "execution_count": null,
      "outputs": []
    },
    {
      "cell_type": "code",
      "source": [
        "#Your code goes here\n",
        "# def Area_of_circle(radius):\n",
        "#   Area = 3.14*radius*radius\n",
        "#   print(\"Area of circle = \", Area)\n",
        "#   return Area\n",
        "\n",
        "# radius = int(input(\"Radius = \")  \n",
        "# Area_of_circle(radius)  \n",
        "radius = 2.4\n",
        "area = 3.14*radius*radius\n",
        "print(\"area of circle: \", area)\n"
      ],
      "metadata": {
        "id": "9QGe_LSGySnH"
      },
      "execution_count": null,
      "outputs": []
    },
    {
      "cell_type": "code",
      "source": [
        "radius = 2\n",
        "a = 6*(2*radius)\n",
        "print(a)"
      ],
      "metadata": {
        "id": "oPRZp76DsC-1"
      },
      "execution_count": null,
      "outputs": []
    },
    {
      "cell_type": "markdown",
      "metadata": {
        "id": "Au6EK9ymJS1h"
      },
      "source": [
        "Practice Problem 1 - Level 1\n",
        "Problem Statement:\n",
        "Write a python function to add 'ing' at the end of a given string and return the new string. \n",
        "If the given string already ends with 'ing' then add 'ly'.\n",
        "If the length of the given string is less than 3, leave it unchanged."
      ]
    },
    {
      "cell_type": "code",
      "execution_count": null,
      "metadata": {
        "id": "HvDKka0tB_98"
      },
      "outputs": [],
      "source": [
        "#lex_auth_0127135739583692801137\n",
        "\n",
        "def add_string(str1):\n",
        "  #start writing your code here\n",
        "  # a = len(str1)\n",
        "  if len(str1) < 3:\n",
        "    str1 = str1\n",
        "  else:\n",
        "    if str1[-3:] == \"ing\":\n",
        "      str1 = str1+\"ly\"\n",
        "    else:\n",
        "      str1 = str1+\"ing\" \n",
        "  \n",
        "  return str1\n",
        "\n",
        "str1=\"coming\"\n",
        "print(add_string(str1))"
      ]
    },
    {
      "cell_type": "markdown",
      "metadata": {
        "id": "11EDAEplIB-M"
      },
      "source": [
        "Practice Problem 2 - Level 1\n",
        "Problem Statement\n",
        "Write a python function which accepts a string containing a pattern of brackets and returns true if the pattern of brackets is correct. Otherwise it returns false.\n",
        "\n",
        "The string of brackets is correct if it satisfies the following conditions:\n",
        "1. Number of opening and closing brackets are equal.\n",
        "2. Pattern should not start with closing bracket and end with opening bracket.\n"
      ]
    },
    {
      "cell_type": "code",
      "execution_count": null,
      "metadata": {
        "id": "Q0mxbOfcB_rm"
      },
      "outputs": [],
      "source": [
        "def bracket_pattern(input_str):\n",
        "    # Remove pass and write your code here\n",
        "  open = 0\n",
        "  close = 0\n",
        "  for i in input_str:\n",
        "    if i == \"(\":\n",
        "      open += 1\n",
        "    else:\n",
        "      close+= 1   \n",
        "\n",
        "  if input_str[0] == \")\" or input_str[-1] == \"(\":\n",
        "    return False\n",
        "  elif open != close:\n",
        "    return False\n",
        "  else:\n",
        "    return True  \n",
        "\n",
        "input_str=\"(())(\"\n",
        "print(bracket_pattern(input_str))"
      ]
    },
    {
      "cell_type": "markdown",
      "metadata": {
        "id": "gDgDhzaUnUGu"
      },
      "source": [
        "Practice Problem:3\n",
        "Problem Statement:\n",
        "Write a python function to create and return a new dictionary from the given dictionary(item:price).\n",
        "\n",
        "Given the following input, create a new dictionary with elements having price more than 200.\n",
        "\n",
        "prices = {'ACME': 45.23,'AAPL': 612.78, 'IBM': 205.55,'HPQ': 37.20,'FB': 10.75}"
      ]
    },
    {
      "cell_type": "code",
      "execution_count": null,
      "metadata": {
        "id": "l7l7AgXOnWUR"
      },
      "outputs": [],
      "source": [
        "def create_new_dictionary(prices):\n",
        "    new_dict = {}\n",
        "    for key,value in prices.items():\n",
        "      if value >= 200:\n",
        "         new_dict[key]=value\n",
        "    \n",
        "    return new_dict\n",
        "\n",
        "prices = { 'ACME': 45.23,'AAPL': 612.78,'IBM': 205.55,'HPQ': 37.20,'FB': 10.75}\n",
        "print(create_new_dictionary(prices))"
      ]
    },
    {
      "cell_type": "markdown",
      "metadata": {
        "id": "u7qS0cuo7Kkd"
      },
      "source": [
        "Practice Problem 4 - Level 1 Problem Statement:\n",
        "Given a list of numbers, write a python function which returns true if one of the first 4 elements in the list is 9. Otherwise it should return false.\n",
        "The length of the list can be less than 4 also."
      ]
    },
    {
      "cell_type": "code",
      "execution_count": null,
      "metadata": {
        "id": "-Fe47cUL7SSE"
      },
      "outputs": [],
      "source": [
        "def find_nine(nums):\n",
        "  for i in nums[0:4]:\n",
        "    if i == 9:\n",
        "      return True\n",
        "    else:\n",
        "      i += i\n",
        "  return False  \n",
        "\n",
        "nums=[1, 10, 20, 9, 100]\n",
        "print(find_nine(nums))"
      ]
    },
    {
      "cell_type": "markdown",
      "metadata": {
        "id": "YYExy-s-CXZG"
      },
      "source": [
        "Practice Problem 5 - Level 1\n",
        "Problem Statement\n",
        "Write a python function which accepts a sentence and finds the number of letters and digits in the sentence.\n",
        "It should return a list in which the first value should be letter count and second value should be digit count. Ignore the spaces or any other special character in the sentence."
      ]
    },
    {
      "cell_type": "code",
      "execution_count": null,
      "metadata": {
        "id": "T_slQQ0R6n3a"
      },
      "outputs": [],
      "source": [
        "def count_digits_letters(sentence):\n",
        "  alphabet = 0\n",
        "  digit = 0\n",
        "  for i in sentence:\n",
        "    if i.isalpha():\n",
        "      alphabet += 1\n",
        "\n",
        "    elif i.isdigit():\n",
        "      digit += 1\n",
        "  result_list = [alphabet, digit] \n",
        "  return result_list\n",
        "\n",
        "sentence = \"Infosys Mysore 570027\"\n",
        "print(count_digits_letters(sentence))"
      ]
    },
    {
      "cell_type": "markdown",
      "metadata": {
        "id": "nXPkKhplG4PW"
      },
      "source": [
        "Practice Problem 6 - Level 1\n",
        "Problem Statement:\n",
        "Write a python function which accepts a list of numbers and returns true, if 1, 2, 3 appears in sequence in the list.\n",
        "\n",
        "Otherwise, it should return false."
      ]
    },
    {
      "cell_type": "code",
      "execution_count": null,
      "metadata": {
        "id": "owTZIS2qG6qh"
      },
      "outputs": [],
      "source": [
        "def list123(nums):\n",
        "  for i in range(len(nums)-2):\n",
        "    if (i==1 and i+1 == 2 and i+2 == 3):\n",
        "      return True\n",
        "  return False      \n",
        "\n",
        "nums=[1,2,3,4,5]\n",
        "print(list123(nums))"
      ]
    },
    {
      "cell_type": "markdown",
      "source": [
        "Practice Problem 7 - Level 1\n",
        "Problem Statement:\n",
        "Given two numbers, write a python function which returns true if first number is a seed of second number. Otherwise it returns false.\n",
        "\n",
        "A number X is said to be a seed of number Y, if multiplying X by its each digit equates to Y\n",
        "\n",
        "For example, 123 is a seed of 738 as 123*1*2*3 = 738."
      ],
      "metadata": {
        "id": "yK3p6EuRwFh7"
      }
    },
    {
      "cell_type": "code",
      "source": [
        "def seed_no(number,ref_no):\n",
        "  num = str(number) \n",
        "  a = 1 \n",
        "  for i in num:\n",
        "\n",
        "    a = a * int(i)\n",
        "  if a*number == ref_no:\n",
        "    return True\n",
        "  else:\n",
        "    return False \n",
        "\n",
        "number=123\n",
        "ref_no=738\n",
        "print(seed_no(number,ref_no))\n"
      ],
      "metadata": {
        "id": "HtWsjmYDwHeh"
      },
      "execution_count": null,
      "outputs": []
    },
    {
      "cell_type": "markdown",
      "source": [
        "Practice Problem:8\n",
        "Problem Statement\n",
        "You have x no. of 5 rupee coins and y no. of 1 rupee coins. You want to purchase an item for amount z. The shopkeeper wants you to provide exact change. You want to pay using minimum number of coins. How many 5 rupee coins and 1 rupee coins will you use? If exact change is not possible then display -1."
      ],
      "metadata": {
        "id": "w7DVr1UtfKRm"
      }
    },
    {
      "cell_type": "code",
      "source": [
        "#lex_auth_012693780491968512136\n",
        "\n",
        "def make_amount(rupees_to_make,no_of_five,no_of_one):\n",
        "    five_needed=0\n",
        "    one_needed=0\n",
        "    \n",
        "    if ((no_of_five*5)+no_of_one) >= rupees_to_make:\n",
        "      five_needed = no_of_five - (rupees_to_make % 5)\n",
        "      one_needed = rupees_to_make-five_needed*5\n",
        "      print(\"No. of Five needed :\", five_needed)\n",
        "      print(\"No. of One needed  :\", one_needed)\n",
        "    else:\n",
        "      print(-1)\n",
        "\n",
        "    \n",
        "\n",
        "\n",
        "#Provide different values for rupees_to_make,no_of_five,no_of_one and test your program\n",
        "make_amount(105,20,5)"
      ],
      "metadata": {
        "colab": {
          "base_uri": "https://localhost:8080/"
        },
        "id": "FPI1ldFQibm4",
        "outputId": "0ac81219-1c0f-493e-f010-b0607cb1a186"
      },
      "execution_count": null,
      "outputs": [
        {
          "output_type": "stream",
          "name": "stdout",
          "text": [
            "No. of Five needed : 20\n",
            "No. of One needed  : 5\n"
          ]
        }
      ]
    },
    {
      "cell_type": "code",
      "source": [],
      "metadata": {
        "id": "epSrOpYCmiYo"
      },
      "execution_count": null,
      "outputs": []
    },
    {
      "cell_type": "code",
      "source": [
        "def Required_food(r,unit):\n",
        "  arr = [2,8,3,5,7,1,1,1]\n",
        "  b = 0\n",
        "  a = 0\n",
        "  food_req = r*unit\n",
        "  for i in arr:\n",
        "    if a < food_req:\n",
        "      a+=i\n",
        "      b+=1\n",
        "     \n",
        "    # else:\n",
        "    #   break\n",
        "  if a < food_req:\n",
        "    print(-1)\n",
        "  else:\n",
        "    print(b)\n",
        "    \n",
        "Required_food(7,2)\n"
      ],
      "metadata": {
        "id": "23QOVXP-Gdc4"
      },
      "execution_count": null,
      "outputs": []
    },
    {
      "cell_type": "code",
      "source": [
        "def Calculate(m,n):\n",
        "  k = 0\n",
        "  for i in range(m,n):\n",
        "    if i % 5 == 0 and i % 3 == 0:\n",
        "      k += i\n",
        "    else:\n",
        "      k +=0\n",
        "  print(k)\n",
        "\n",
        "Calculate(12,50)"
      ],
      "metadata": {
        "id": "N3_StqbFGdc5"
      },
      "execution_count": null,
      "outputs": []
    },
    {
      "cell_type": "code",
      "source": [
        "def Operation_choices(a,b,c):\n",
        "  d = 0\n",
        "  if c == 1:\n",
        "    d = a+b\n",
        "  elif c == 2:\n",
        "    d = a-b\n",
        "  elif c==3:\n",
        "    d = a*b\n",
        "  elif c ==4:\n",
        "    d = a/d\n",
        "  else:\n",
        "    d = 0\n",
        "  print(d)\n",
        "\n",
        "Operation_choices(16,20,2)"
      ],
      "metadata": {
        "id": "sincQh-GGdc5"
      },
      "execution_count": null,
      "outputs": []
    },
    {
      "cell_type": "code",
      "source": [
        "# str1 = \"apple\"\n",
        "# str2 = \"\"\n",
        "def Replace_Characters(ch1,ch2):\n",
        "    str1 = \"apple\"\n",
        "    str2 = \"\"   \n",
        "    for i in str1:\n",
        "        if i == ch1:\n",
        "            str2 += ch2\n",
        "        elif i == ch2:\n",
        "            str2 += ch1\n",
        "        else:\n",
        "            str2 += i\n",
        "    print(str2)         \n",
        "\n",
        "Replace_Characters(\"a\",\"p\")          "
      ],
      "metadata": {
        "id": "vTCJXbl8Gdc5"
      },
      "execution_count": null,
      "outputs": []
    },
    {
      "cell_type": "code",
      "source": [
        "str1 =\"hjj-dhg\"\n",
        "s=0\n",
        "j=\"\"\n",
        "for i in str1:\n",
        "  if i =='-':\n",
        "    s += 1\n",
        "  else:\n",
        "    j+=i\n",
        "print((\"-\"*s)+j)\n"
      ],
      "metadata": {
        "id": "S4zAAkxuGdc5"
      },
      "execution_count": null,
      "outputs": []
    },
    {
      "cell_type": "code",
      "source": [
        "#lex_auth_01269441913243238467\n",
        "def create_largest_number(number_list):\n",
        "    list = number_list.sort\n",
        "    for i in list:\n",
        "      \n",
        "\n",
        "    #remove pass and write your logic here\n",
        "\n",
        "number_list=[23,45,67]\n",
        "largest_number=create_largest_number(number_list)\n",
        "print(largest_number)"
      ],
      "metadata": {
        "id": "NQ_7qOw3Gdc5"
      },
      "execution_count": null,
      "outputs": []
    },
    {
      "cell_type": "code",
      "source": [
        "#lex_auth_012693797166096384149\n",
        "\n",
        "def find_leap_years(given_year):\n",
        "  list = []\n",
        "  for year in range(given_year, given_year+70):\n",
        "    if(year%400 == 0 or year%100 != 0 and year%4 == 0):\n",
        "      list.append(year)\n",
        "      if(len(list)==15):\n",
        "        break\n",
        "  list_of_leap_years = list\n",
        "  \n",
        "  return list_of_leap_years\n",
        "\n",
        "list_of_leap_years=find_leap_years(2000)\n",
        "print(list_of_leap_years)"
      ],
      "metadata": {
        "id": "scKCYXQlGdc6"
      },
      "execution_count": null,
      "outputs": []
    },
    {
      "cell_type": "code",
      "source": [
        "def make_amount(rupees_to_make,no_of_five,no_of_one):\n",
        "    five_needed=0\n",
        "    one_needed=0\n",
        "    if (no_of_five*5)+no_of_one >= rupees_to_make:\n",
        "      five_needed = rupees_to_make//5\n",
        "      if five_needed >= no_of_five:\n",
        "        five_needed = no_of_five\n",
        "      one_needed = rupees_to_make-(5*five_needed)\n",
        "      if one_needed >= no_of_one:\n",
        "        one_needed = no_of_one\n",
        "\n",
        "      \n",
        "    #Start writing your code here\n",
        "    #Populate the variables: five_needed and one_needed\n",
        "\n",
        "\n",
        "    # Use the below given print statements to display the output\n",
        "    # Also, do not modify them for verification to work\n",
        "    \n",
        "      print(\"No. of Five needed :\", five_needed)\n",
        "      print(\"No. of One needed  :\", one_needed)\n",
        "    else:\n",
        "      \n",
        "      print(-1)\n",
        "\n",
        "\n",
        "#Provide different values for rupees_to_make,no_of_five,no_of_one and test your program\n",
        "make_amount(28,8,5)"
      ],
      "metadata": {
        "id": "x9Ig5V0mGdc6"
      },
      "execution_count": null,
      "outputs": []
    },
    {
      "cell_type": "code",
      "source": [
        "#lex_auth_012693782475948032141\n",
        "\n",
        "def calculate_bill_amount(food_type,quantity_ordered,distance_in_kms):\n",
        "    bill_amount=0\n",
        "    if food_type == \"V\":\n",
        "      if distance_in_kms < 3:\n",
        "        distance_in_kms = 0\n",
        "      elif distance_in_kms > 3 and distance_in_kms<=3:\n",
        "        distance_in_kms = (distance_in_kms-3)*3\n",
        "      elif distance_in_kms > 6:\n",
        "        distance_in_kms = ((distance_in_kms-6)*6)+9\n",
        "        bill_amount = (120*quantity_ordered)+distance_in_kms\n",
        "    elif food_type == \"N\":\n",
        "      if distance_in_kms < 3:\n",
        "        distance_in_kms = 0\n",
        "      elif distance_in_kms > 3 and distance_in_kms<=6:\n",
        "        distance_in_kms = (distance_in_kms-3)*3\n",
        "      elif distance_in_kms > 6:\n",
        "        distance_in_kms = ((distance_in_kms-6)*6)+9\n",
        "        bill_amount = (150*quantity_ordered)+distance_in_kms\n",
        "    else:\n",
        "      if quantity_ordered == 0 or distance_in_kms == 0:\n",
        "        bill_amount=0\n",
        "\n",
        "      \n",
        "\n",
        "    return bill_amount\n",
        "\n",
        "#Provide different values for food_type,quantity_ordered,distance_in_kms and test your program\n",
        "bill_amount=calculate_bill_amount(\"N\",2,8)\n",
        "print(bill_amount)"
      ],
      "metadata": {
        "id": "cMZA8iy3Gdc6"
      },
      "execution_count": null,
      "outputs": []
    },
    {
      "cell_type": "code",
      "source": [
        "def rev():\n",
        "  for i in range(10,100):\n",
        "    if i%10 == i"
      ],
      "metadata": {
        "id": "RGY4p0KcGdc6"
      },
      "execution_count": null,
      "outputs": []
    },
    {
      "cell_type": "code",
      "source": [
        "l=[]\n",
        "for i in range(10,100):\n",
        "  reverse = l.append(i)\n",
        "  if i == i.reverse:\n",
        "    return True"
      ],
      "metadata": {
        "id": "NLiLWRCvGdc6"
      },
      "execution_count": null,
      "outputs": []
    }
  ],
  "metadata": {
    "colab": {
      "provenance": [],
      "authorship_tag": "ABX9TyNFX3w50Wd8x6KhWx4zJG1d",
      "include_colab_link": true
    },
    "kernelspec": {
      "display_name": "Python 3",
      "name": "python3"
    },
    "language_info": {
      "name": "python"
    }
  },
  "nbformat": 4,
  "nbformat_minor": 0
}